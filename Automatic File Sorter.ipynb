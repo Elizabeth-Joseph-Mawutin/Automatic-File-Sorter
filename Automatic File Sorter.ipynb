{
 "cells": [
  {
   "cell_type": "markdown",
   "id": "98c6aab8-b6ee-4462-b552-b516d8a8edc0",
   "metadata": {},
   "source": [
    "# Automatice File Sorter in File Explorer"
   ]
  },
  {
   "cell_type": "code",
   "execution_count": 33,
   "id": "8b27fdb7-a570-44b5-9e7a-78451e042e02",
   "metadata": {},
   "outputs": [],
   "source": [
    "import os, shutil"
   ]
  },
  {
   "cell_type": "code",
   "execution_count": 34,
   "id": "3caa9ee1-aa9a-4cc6-b4e1-0a13371c13c3",
   "metadata": {},
   "outputs": [],
   "source": [
    "# File path/directory\n",
    "\n",
    "path = r\"C:/Users/User/Desktop/DATA ANALYST/Python/file/\""
   ]
  },
  {
   "cell_type": "code",
   "execution_count": 35,
   "id": "9b6573c6-93e1-47bf-b918-98338e2d2b54",
   "metadata": {},
   "outputs": [],
   "source": [
    "# Files in the path/directory\n",
    "\n",
    "file_name = os.listdir(path)"
   ]
  },
  {
   "cell_type": "code",
   "execution_count": 37,
   "id": "0b4f09a0-c8dc-4d4f-8d01-02d7ac6d90ab",
   "metadata": {},
   "outputs": [
    {
     "name": "stdout",
     "output_type": "stream",
     "text": [
      "C:/Users/User/Desktop/DATA ANALYST/Python/file/excel files\n",
      "C:/Users/User/Desktop/DATA ANALYST/Python/file/image files\n",
      "C:/Users/User/Desktop/DATA ANALYST/Python/file/text files\n"
     ]
    }
   ],
   "source": [
    "folder_names = ['excel files', 'image files', 'text files']\n",
    "for loop in range(0,3):\n",
    "   if not os.path.exists(path + folder_names[loop]):\n",
    "        print(path + folder_names[loop])\n",
    "        os.makedirs(path + folder_names[loop])\n"
   ]
  },
  {
   "cell_type": "code",
   "execution_count": 38,
   "id": "8a57eef5-28ad-4914-b3ca-52eef9d63474",
   "metadata": {},
   "outputs": [],
   "source": [
    "       \n",
    "for file in file_name:\n",
    "    if \".xlsx\" in file and not os.path.exists(path + \"excel files/\" + file):\n",
    "        shutil.move(path + file, path + \"excel files/\" + file)\n",
    "    elif \".jfif\" in file and not os.path.exists(path + \"image files/\" + file):\n",
    "        shutil.move(path + file, path + \"image files/\" + file)\n",
    "    elif \".txt\" in file and not os.path.exists(path + \"text files/\" + file):\n",
    "        shutil.move(path + file, path + \"text files/\" + file)\n"
   ]
  }
 ],
 "metadata": {
  "kernelspec": {
   "display_name": "Python 3 (ipykernel)",
   "language": "python",
   "name": "python3"
  },
  "language_info": {
   "codemirror_mode": {
    "name": "ipython",
    "version": 3
   },
   "file_extension": ".py",
   "mimetype": "text/x-python",
   "name": "python",
   "nbconvert_exporter": "python",
   "pygments_lexer": "ipython3",
   "version": "3.12.4"
  }
 },
 "nbformat": 4,
 "nbformat_minor": 5
}
